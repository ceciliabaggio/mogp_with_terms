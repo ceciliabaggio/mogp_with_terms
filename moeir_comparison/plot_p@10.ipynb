{
 "cells": [
  {
   "cell_type": "code",
   "execution_count": 24,
   "metadata": {},
   "outputs": [],
   "source": [
    "#!pip install matplotlib==3.5.0"
   ]
  },
  {
   "cell_type": "code",
   "execution_count": 25,
   "metadata": {},
   "outputs": [],
   "source": [
    "import matplotlib.pyplot as plt\n",
    "import numpy as np\n",
    "import pandas as pd\n",
    "import math\n",
    "\n",
    "from matplotlib import rc\n",
    "#rc('font',**{'family':'sans-serif','sans-serif':['Helvetica']})\n",
    "rc('text', usetex=True)\n",
    "\n",
    "\n",
    "# folder path\n",
    "dir_path  = '/home/cecilia/repos/mogp_with_terms/moeir_comparison/'\n",
    "save_path = dir_path"
   ]
  },
  {
   "cell_type": "markdown",
   "metadata": {},
   "source": [
    "MOGP DFs"
   ]
  },
  {
   "cell_type": "code",
   "execution_count": 26,
   "metadata": {},
   "outputs": [
    {
     "data": {
      "text/html": [
       "<div>\n",
       "<style scoped>\n",
       "    .dataframe tbody tr th:only-of-type {\n",
       "        vertical-align: middle;\n",
       "    }\n",
       "\n",
       "    .dataframe tbody tr th {\n",
       "        vertical-align: top;\n",
       "    }\n",
       "\n",
       "    .dataframe thead th {\n",
       "        text-align: right;\n",
       "    }\n",
       "</style>\n",
       "<table border=\"1\" class=\"dataframe\">\n",
       "  <thead>\n",
       "    <tr style=\"text-align: right;\">\n",
       "      <th></th>\n",
       "      <th>Unnamed: 0</th>\n",
       "      <th>mean_prec</th>\n",
       "      <th>count_prec</th>\n",
       "      <th>std_prec</th>\n",
       "      <th>ci95_lo_prec</th>\n",
       "      <th>ci95_hi_prec</th>\n",
       "    </tr>\n",
       "  </thead>\n",
       "  <tbody>\n",
       "    <tr>\n",
       "      <th>0</th>\n",
       "      <td>0</td>\n",
       "      <td>0.55984</td>\n",
       "      <td>25</td>\n",
       "      <td>0.259999</td>\n",
       "      <td>0.45792</td>\n",
       "      <td>0.661759</td>\n",
       "    </tr>\n",
       "  </tbody>\n",
       "</table>\n",
       "</div>"
      ],
      "text/plain": [
       "   Unnamed: 0  mean_prec  count_prec  std_prec  ci95_lo_prec  ci95_hi_prec\n",
       "0           0    0.55984          25  0.259999       0.45792      0.661759"
      ]
     },
     "execution_count": 26,
     "metadata": {},
     "output_type": "execute_result"
    }
   ],
   "source": [
    "# LAST GEN\n",
    "path_mogp_pr10 = dir_path + 'co3_precision10_evaluation_stats_last_gen.csv'\n",
    "df_mogp_p10 = pd.read_csv(path_mogp_pr10)\n",
    "\n",
    "df_mogp_p10"
   ]
  },
  {
   "cell_type": "code",
   "execution_count": 27,
   "metadata": {},
   "outputs": [
    {
     "data": {
      "text/html": [
       "<div>\n",
       "<style scoped>\n",
       "    .dataframe tbody tr th:only-of-type {\n",
       "        vertical-align: middle;\n",
       "    }\n",
       "\n",
       "    .dataframe tbody tr th {\n",
       "        vertical-align: top;\n",
       "    }\n",
       "\n",
       "    .dataframe thead th {\n",
       "        text-align: right;\n",
       "    }\n",
       "</style>\n",
       "<table border=\"1\" class=\"dataframe\">\n",
       "  <thead>\n",
       "    <tr style=\"text-align: right;\">\n",
       "      <th></th>\n",
       "      <th>Unnamed: 0</th>\n",
       "      <th>mean_prec</th>\n",
       "      <th>count_prec</th>\n",
       "      <th>std_prec</th>\n",
       "      <th>ci95_lo_prec</th>\n",
       "      <th>ci95_hi_prec</th>\n",
       "    </tr>\n",
       "  </thead>\n",
       "  <tbody>\n",
       "    <tr>\n",
       "      <th>0</th>\n",
       "      <td>0</td>\n",
       "      <td>0.096849</td>\n",
       "      <td>25</td>\n",
       "      <td>0.099733</td>\n",
       "      <td>0.057753</td>\n",
       "      <td>0.135944</td>\n",
       "    </tr>\n",
       "  </tbody>\n",
       "</table>\n",
       "</div>"
      ],
      "text/plain": [
       "   Unnamed: 0  mean_prec  count_prec  std_prec  ci95_lo_prec  ci95_hi_prec\n",
       "0           0   0.096849          25  0.099733      0.057753      0.135944"
      ]
     },
     "execution_count": 27,
     "metadata": {},
     "output_type": "execute_result"
    }
   ],
   "source": [
    "# 1st gen\n",
    "path_mogp_pr10_1st = dir_path + 'co3_precision10_evaluation_stats_gen_1.csv'\n",
    "df_mogp_p10_1st = pd.read_csv(path_mogp_pr10_1st)\n",
    "\n",
    "df_mogp_p10_1st"
   ]
  },
  {
   "cell_type": "markdown",
   "metadata": {},
   "source": [
    "MOEIR DFs"
   ]
  },
  {
   "cell_type": "code",
   "execution_count": 28,
   "metadata": {},
   "outputs": [
    {
     "data": {
      "text/html": [
       "<div>\n",
       "<style scoped>\n",
       "    .dataframe tbody tr th:only-of-type {\n",
       "        vertical-align: middle;\n",
       "    }\n",
       "\n",
       "    .dataframe tbody tr th {\n",
       "        vertical-align: top;\n",
       "    }\n",
       "\n",
       "    .dataframe thead th {\n",
       "        text-align: right;\n",
       "    }\n",
       "</style>\n",
       "<table border=\"1\" class=\"dataframe\">\n",
       "  <thead>\n",
       "    <tr style=\"text-align: right;\">\n",
       "      <th></th>\n",
       "      <th>Unnamed: 0</th>\n",
       "      <th>mean_prec</th>\n",
       "      <th>count_prec</th>\n",
       "      <th>std_prec</th>\n",
       "      <th>ci95_lo_prec</th>\n",
       "      <th>ci95_hi_prec</th>\n",
       "    </tr>\n",
       "  </thead>\n",
       "  <tbody>\n",
       "    <tr>\n",
       "      <th>0</th>\n",
       "      <td>0</td>\n",
       "      <td>0.396307</td>\n",
       "      <td>25</td>\n",
       "      <td>0.213751</td>\n",
       "      <td>0.312517</td>\n",
       "      <td>0.480097</td>\n",
       "    </tr>\n",
       "  </tbody>\n",
       "</table>\n",
       "</div>"
      ],
      "text/plain": [
       "   Unnamed: 0  mean_prec  count_prec  std_prec  ci95_lo_prec  ci95_hi_prec\n",
       "0           0   0.396307          25  0.213751      0.312517      0.480097"
      ]
     },
     "execution_count": 28,
     "metadata": {},
     "output_type": "execute_result"
    }
   ],
   "source": [
    "# last gen\n",
    "path_moeir_pr10 = dir_path + 'moeir_precision10_evaluation_stats_last_gen.csv'\n",
    "df_moeir_p10 = pd.read_csv(path_moeir_pr10)\n",
    "\n",
    "df_moeir_p10"
   ]
  },
  {
   "cell_type": "code",
   "execution_count": 29,
   "metadata": {},
   "outputs": [
    {
     "data": {
      "text/html": [
       "<div>\n",
       "<style scoped>\n",
       "    .dataframe tbody tr th:only-of-type {\n",
       "        vertical-align: middle;\n",
       "    }\n",
       "\n",
       "    .dataframe tbody tr th {\n",
       "        vertical-align: top;\n",
       "    }\n",
       "\n",
       "    .dataframe thead th {\n",
       "        text-align: right;\n",
       "    }\n",
       "</style>\n",
       "<table border=\"1\" class=\"dataframe\">\n",
       "  <thead>\n",
       "    <tr style=\"text-align: right;\">\n",
       "      <th></th>\n",
       "      <th>Unnamed: 0</th>\n",
       "      <th>mean_prec</th>\n",
       "      <th>count_prec</th>\n",
       "      <th>std_prec</th>\n",
       "      <th>ci95_lo_prec</th>\n",
       "      <th>ci95_hi_prec</th>\n",
       "    </tr>\n",
       "  </thead>\n",
       "  <tbody>\n",
       "    <tr>\n",
       "      <th>0</th>\n",
       "      <td>0</td>\n",
       "      <td>0.053667</td>\n",
       "      <td>25</td>\n",
       "      <td>0.060438</td>\n",
       "      <td>0.029975</td>\n",
       "      <td>0.077358</td>\n",
       "    </tr>\n",
       "  </tbody>\n",
       "</table>\n",
       "</div>"
      ],
      "text/plain": [
       "   Unnamed: 0  mean_prec  count_prec  std_prec  ci95_lo_prec  ci95_hi_prec\n",
       "0           0   0.053667          25  0.060438      0.029975      0.077358"
      ]
     },
     "execution_count": 29,
     "metadata": {},
     "output_type": "execute_result"
    }
   ],
   "source": [
    "# last gen\n",
    "path_moeir_p10_1st = dir_path + 'moeir_precision10_evaluation_stats_gen_1.csv'\n",
    "df_moeir_p10_1st = pd.read_csv(path_moeir_p10_1st)\n",
    "\n",
    "df_moeir_p10_1st"
   ]
  },
  {
   "cell_type": "code",
   "execution_count": 30,
   "metadata": {},
   "outputs": [
    {
     "name": "stdout",
     "output_type": "stream",
     "text": [
      "[(0.0390952054294519, 0.023691690019920476), (0.1019196171027283, 0.08379022296559847)]\n"
     ]
    },
    {
     "data": {
      "image/png": "[encoded data removed]",
      "text/plain": [
       "<Figure size 500x300 with 1 Axes>"
      ]
     },
     "metadata": {},
     "output_type": "display_data"
    }
   ],
   "source": [
    "def IC_95(std, cant_items):\n",
    "    \n",
    "    return std * 1.96 / math.sqrt(cant_items)\n",
    "\n",
    "\n",
    "\n",
    "species = (\"MOGP\", \"MOEIR\" )\n",
    "\n",
    "penguin_means = {\n",
    "    '1st Gen': (df_mogp_p10_1st['mean_prec'][0], df_moeir_p10_1st['mean_prec'][0]),\n",
    "    'Last Gen': (df_mogp_p10['mean_prec'][0], df_moeir_p10['mean_prec'][0]),\n",
    "}\n",
    "\n",
    "std = [(IC_95(df_mogp_p10_1st['std_prec'][0],df_mogp_p10_1st['count_prec'][0]), IC_95(df_moeir_p10_1st['std_prec'][0], df_moeir_p10_1st['count_prec'][0] )),\n",
    "       (IC_95(df_mogp_p10['std_prec'][0], df_mogp_p10['count_prec'][0]), IC_95(df_moeir_p10['std_prec'][0], df_moeir_p10['count_prec'][0] )) ]\n",
    "print(std)\n",
    "x = np.arange(len(species))  # the label locations\n",
    "width = 0.25  # the width of the bars\n",
    "multiplier = 0\n",
    "\n",
    "fig, ax = plt.subplots(1, 1, figsize=(5, 3))\n",
    "\n",
    "for attribute, measurement in penguin_means.items():\n",
    "    \n",
    "    offset = width * multiplier\n",
    "    #axs.bar('mogp', t['mean_prec'], yerr=t['std_prec'], capsize=6)\n",
    "    rects = ax.bar(x + offset, measurement, width, yerr=std[multiplier], label=attribute, capsize=6)\n",
    "    ax.bar_label(rects, padding=3)\n",
    "    multiplier += 1\n",
    "\n",
    "ax.set_ylabel(r'$$\\overline{\\overline{\\textit{Precision@10}}}$$',fontsize=12)\n",
    "\n",
    "ax.set_xticks(x + width / 2)\n",
    "ax.set_xticklabels([\"MOGP\", \"MOEIR\"])\n",
    "\n",
    "\n",
    "\n",
    "ax.legend(loc='upper right', ncol=2)\n",
    "ax.set_ylim(0, 1)\n",
    "\n",
    "plt.savefig(dir_path+\"mogp_vs_moeir_p10.svg\")\n",
    "plt.show()\n"
   ]
  },
  {
   "cell_type": "code",
   "execution_count": null,
   "metadata": {},
   "outputs": [],
   "source": []
  }
 ],
 "metadata": {
  "kernelspec": {
   "display_name": "Python 3.8.10 64-bit",
   "language": "python",
   "name": "python3"
  },
  "language_info": {
   "codemirror_mode": {
    "name": "ipython",
    "version": 3
   },
   "file_extension": ".py",
   "mimetype": "text/x-python",
   "name": "python",
   "nbconvert_exporter": "python",
   "pygments_lexer": "ipython3",
   "version": "3.8.10"
  },
  "orig_nbformat": 4,
  "vscode": {
   "interpreter": {
    "hash": "916dbcbb3f70747c44a77c7bcd40155683ae19c65e1c03b4aa3499c5328201f1"
   }
  }
 },
 "nbformat": 4,
 "nbformat_minor": 2
}
