{
 "cells": [
  {
   "cell_type": "code",
   "execution_count": 2,
   "metadata": {},
   "outputs": [],
   "source": [
    "#!pip install matplotlib==3.5.0"
   ]
  },
  {
   "cell_type": "code",
   "execution_count": 3,
   "metadata": {},
   "outputs": [],
   "source": [
    "import matplotlib.pyplot as plt\n",
    "import numpy as np\n",
    "import pandas as pd\n",
    "import math\n",
    "from matplotlib import rc\n",
    "rc('font',**{'family':'sans-serif','sans-serif':['Helvetica']})\n",
    "rc('text', usetex=True)\n",
    "\n",
    "\n",
    "# folder path\n",
    "dir_path  = '/home/cecilia/repos/mogp_with_terms/moeir_comparison/'\n",
    "save_path = dir_path"
   ]
  },
  {
   "cell_type": "markdown",
   "metadata": {},
   "source": [
    "MOGP DFs"
   ]
  },
  {
   "cell_type": "code",
   "execution_count": 4,
   "metadata": {},
   "outputs": [
    {
     "data": {
      "text/html": [
       "<div>\n",
       "<style scoped>\n",
       "    .dataframe tbody tr th:only-of-type {\n",
       "        vertical-align: middle;\n",
       "    }\n",
       "\n",
       "    .dataframe tbody tr th {\n",
       "        vertical-align: top;\n",
       "    }\n",
       "\n",
       "    .dataframe thead th {\n",
       "        text-align: right;\n",
       "    }\n",
       "</style>\n",
       "<table border=\"1\" class=\"dataframe\">\n",
       "  <thead>\n",
       "    <tr style=\"text-align: right;\">\n",
       "      <th></th>\n",
       "      <th>Unnamed: 0</th>\n",
       "      <th>mean_js</th>\n",
       "      <th>count_js</th>\n",
       "      <th>std_js</th>\n",
       "      <th>ci95_lo_js</th>\n",
       "      <th>ci95_hi_js</th>\n",
       "    </tr>\n",
       "  </thead>\n",
       "  <tbody>\n",
       "    <tr>\n",
       "      <th>0</th>\n",
       "      <td>0</td>\n",
       "      <td>0.72438</td>\n",
       "      <td>25</td>\n",
       "      <td>0.187477</td>\n",
       "      <td>0.650889</td>\n",
       "      <td>0.797871</td>\n",
       "    </tr>\n",
       "  </tbody>\n",
       "</table>\n",
       "</div>"
      ],
      "text/plain": [
       "   Unnamed: 0  mean_js  count_js    std_js  ci95_lo_js  ci95_hi_js\n",
       "0           0  0.72438        25  0.187477    0.650889    0.797871"
      ]
     },
     "execution_count": 4,
     "metadata": {},
     "output_type": "execute_result"
    }
   ],
   "source": [
    "# LAST GEN\n",
    "path_mogp_js = dir_path + 'co3_jaccardSimilarity_evaluation_stats_last_gen.csv'\n",
    "df_mogp_js = pd.read_csv(path_mogp_js)\n",
    "\n",
    "df_mogp_js"
   ]
  },
  {
   "cell_type": "code",
   "execution_count": 5,
   "metadata": {},
   "outputs": [
    {
     "data": {
      "text/html": [
       "<div>\n",
       "<style scoped>\n",
       "    .dataframe tbody tr th:only-of-type {\n",
       "        vertical-align: middle;\n",
       "    }\n",
       "\n",
       "    .dataframe tbody tr th {\n",
       "        vertical-align: top;\n",
       "    }\n",
       "\n",
       "    .dataframe thead th {\n",
       "        text-align: right;\n",
       "    }\n",
       "</style>\n",
       "<table border=\"1\" class=\"dataframe\">\n",
       "  <thead>\n",
       "    <tr style=\"text-align: right;\">\n",
       "      <th></th>\n",
       "      <th>Unnamed: 0</th>\n",
       "      <th>mean_js</th>\n",
       "      <th>count_js</th>\n",
       "      <th>std_js</th>\n",
       "      <th>ci95_lo_js</th>\n",
       "      <th>ci95_hi_js</th>\n",
       "    </tr>\n",
       "  </thead>\n",
       "  <tbody>\n",
       "    <tr>\n",
       "      <th>0</th>\n",
       "      <td>0</td>\n",
       "      <td>0.152496</td>\n",
       "      <td>25</td>\n",
       "      <td>0.057473</td>\n",
       "      <td>0.129966</td>\n",
       "      <td>0.175025</td>\n",
       "    </tr>\n",
       "  </tbody>\n",
       "</table>\n",
       "</div>"
      ],
      "text/plain": [
       "   Unnamed: 0   mean_js  count_js    std_js  ci95_lo_js  ci95_hi_js\n",
       "0           0  0.152496        25  0.057473    0.129966    0.175025"
      ]
     },
     "execution_count": 5,
     "metadata": {},
     "output_type": "execute_result"
    }
   ],
   "source": [
    "# 1st gen\n",
    "path_mogp_js_1st = dir_path + 'co3_jaccardSimilarity_evaluation_stats_gen_1.csv'\n",
    "df_mogp_js_1st = pd.read_csv(path_mogp_js_1st)\n",
    "\n",
    "df_mogp_js_1st"
   ]
  },
  {
   "cell_type": "markdown",
   "metadata": {},
   "source": [
    "MOEIR DFs"
   ]
  },
  {
   "cell_type": "code",
   "execution_count": 6,
   "metadata": {},
   "outputs": [
    {
     "data": {
      "text/html": [
       "<div>\n",
       "<style scoped>\n",
       "    .dataframe tbody tr th:only-of-type {\n",
       "        vertical-align: middle;\n",
       "    }\n",
       "\n",
       "    .dataframe tbody tr th {\n",
       "        vertical-align: top;\n",
       "    }\n",
       "\n",
       "    .dataframe thead th {\n",
       "        text-align: right;\n",
       "    }\n",
       "</style>\n",
       "<table border=\"1\" class=\"dataframe\">\n",
       "  <thead>\n",
       "    <tr style=\"text-align: right;\">\n",
       "      <th></th>\n",
       "      <th>Unnamed: 0</th>\n",
       "      <th>mean_js</th>\n",
       "      <th>count_js</th>\n",
       "      <th>std_js</th>\n",
       "      <th>ci95_lo_js</th>\n",
       "      <th>ci95_hi_js</th>\n",
       "    </tr>\n",
       "  </thead>\n",
       "  <tbody>\n",
       "    <tr>\n",
       "      <th>0</th>\n",
       "      <td>0</td>\n",
       "      <td>0.622174</td>\n",
       "      <td>25</td>\n",
       "      <td>0.105523</td>\n",
       "      <td>0.580809</td>\n",
       "      <td>0.663539</td>\n",
       "    </tr>\n",
       "  </tbody>\n",
       "</table>\n",
       "</div>"
      ],
      "text/plain": [
       "   Unnamed: 0   mean_js  count_js    std_js  ci95_lo_js  ci95_hi_js\n",
       "0           0  0.622174        25  0.105523    0.580809    0.663539"
      ]
     },
     "execution_count": 6,
     "metadata": {},
     "output_type": "execute_result"
    }
   ],
   "source": [
    "# last gen\n",
    "path_moeir_js = dir_path + 'moeir_jaccard_evaluation_stats_last_gen.csv'\n",
    "df_moeir_js = pd.read_csv(path_moeir_js)\n",
    "\n",
    "df_moeir_js"
   ]
  },
  {
   "cell_type": "code",
   "execution_count": 7,
   "metadata": {},
   "outputs": [
    {
     "data": {
      "text/html": [
       "<div>\n",
       "<style scoped>\n",
       "    .dataframe tbody tr th:only-of-type {\n",
       "        vertical-align: middle;\n",
       "    }\n",
       "\n",
       "    .dataframe tbody tr th {\n",
       "        vertical-align: top;\n",
       "    }\n",
       "\n",
       "    .dataframe thead th {\n",
       "        text-align: right;\n",
       "    }\n",
       "</style>\n",
       "<table border=\"1\" class=\"dataframe\">\n",
       "  <thead>\n",
       "    <tr style=\"text-align: right;\">\n",
       "      <th></th>\n",
       "      <th>Unnamed: 0</th>\n",
       "      <th>mean_js</th>\n",
       "      <th>count_js</th>\n",
       "      <th>std_js</th>\n",
       "      <th>ci95_lo_js</th>\n",
       "      <th>ci95_hi_js</th>\n",
       "    </tr>\n",
       "  </thead>\n",
       "  <tbody>\n",
       "    <tr>\n",
       "      <th>0</th>\n",
       "      <td>0</td>\n",
       "      <td>0.300988</td>\n",
       "      <td>25</td>\n",
       "      <td>0.158259</td>\n",
       "      <td>0.23895</td>\n",
       "      <td>0.363025</td>\n",
       "    </tr>\n",
       "  </tbody>\n",
       "</table>\n",
       "</div>"
      ],
      "text/plain": [
       "   Unnamed: 0   mean_js  count_js    std_js  ci95_lo_js  ci95_hi_js\n",
       "0           0  0.300988        25  0.158259     0.23895    0.363025"
      ]
     },
     "execution_count": 7,
     "metadata": {},
     "output_type": "execute_result"
    }
   ],
   "source": [
    "# last gen\n",
    "path_moeir_p10_1st = dir_path + 'moeir_jaccard_evaluation_stats_gen_1.csv'\n",
    "df_moeir_js_1st = pd.read_csv(path_moeir_p10_1st)\n",
    "\n",
    "df_moeir_js_1st"
   ]
  },
  {
   "cell_type": "code",
   "execution_count": 26,
   "metadata": {},
   "outputs": [
    {
     "name": "stdout",
     "output_type": "stream",
     "text": [
      "[(0.022529512272178306, 0.062037559860517476), (0.07349102005514971, 0.0413650991236285)]\n"
     ]
    },
    {
     "data": {
      "image/png": "[encoded data removed]",
      "text/plain": [
       "<Figure size 400x300 with 1 Axes>"
      ]
     },
     "metadata": {},
     "output_type": "display_data"
    }
   ],
   "source": [
    "def IC_95(std, cant_items):\n",
    "    \n",
    "    return std * 1.96 / math.sqrt(cant_items)\n",
    "\n",
    "\n",
    "\n",
    "species = (\"MOGP\", \"MOEIR\" )\n",
    "\n",
    "methods_means = {\n",
    "    '$First \\: Gen$': (round(df_mogp_js_1st['mean_js'][0], 3), round(df_moeir_js_1st['mean_js'][0],3)),\n",
    "    '$Last \\: Gen$': (round(df_mogp_js['mean_js'][0],3), round(df_moeir_js['mean_js'][0],3)),\n",
    "}\n",
    "\n",
    "\n",
    "std = [(IC_95(df_mogp_js_1st['std_js'][0],df_mogp_js_1st['count_js'][0]),\n",
    "        IC_95(df_moeir_js_1st['std_js'][0], df_moeir_js_1st['count_js'][0])),\n",
    "       (IC_95(df_mogp_js['std_js'][0], df_mogp_js['count_js'][0]), \n",
    "        IC_95(df_moeir_js['std_js'][0], df_moeir_js['count_js'][0]))]\n",
    "print(std)\n",
    "x = np.arange(len(species))  # the label locations\n",
    "width = 0.35  # the width of the bars\n",
    "multiplier = 0\n",
    "\n",
    "fig, ax = plt.subplots(1, 1, figsize=(4, 3))\n",
    "\n",
    "for attribute, measurement in methods_means.items():\n",
    "    \n",
    "    offset = width * multiplier\n",
    "    #axs.bar('mogp', t['mean_gr'], yerr=t['std_gr'], capsize=6)\n",
    "    rects = ax.bar(x + offset, measurement, width, yerr=std[multiplier], label=attribute, capsize=6)\n",
    "    ax.bar_label(rects, padding=3, fontsize=12)\n",
    "    multiplier += 1\n",
    "\n",
    "\n",
    "ax.set_ylabel(r'$$\\overline{Jaccard \\: Similarity}$$',fontsize=14)\n",
    "\n",
    "ax.set_xticks(x + width / 2)\n",
    "ax.set_xticklabels([\"$MOGP$\", \"$MOEIR$\"], fontsize=14)\n",
    "\n",
    "\n",
    "\n",
    "ax.legend(loc='upper right', ncol=1, fontsize=11)\n",
    "ax.set_ylim(0, 1)\n",
    "plt.savefig(dir_path+\"mogp_vs_moeir_jsi.svg\")\n",
    "plt.show()"
   ]
  },
  {
   "cell_type": "code",
   "execution_count": null,
   "metadata": {},
   "outputs": [],
   "source": []
  }
 ],
 "metadata": {
  "kernelspec": {
   "display_name": "Python 3.8.10 64-bit",
   "language": "python",
   "name": "python3"
  },
  "language_info": {
   "codemirror_mode": {
    "name": "ipython",
    "version": 3
   },
   "file_extension": ".py",
   "mimetype": "text/x-python",
   "name": "python",
   "nbconvert_exporter": "python",
   "pygments_lexer": "ipython3",
   "version": "3.8.10"
  },
  "orig_nbformat": 4,
  "vscode": {
   "interpreter": {
    "hash": "916dbcbb3f70747c44a77c7bcd40155683ae19c65e1c03b4aa3499c5328201f1"
   }
  }
 },
 "nbformat": 4,
 "nbformat_minor": 2
}
