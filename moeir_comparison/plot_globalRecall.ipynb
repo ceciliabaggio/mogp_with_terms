{
 "cells": [
  {
   "cell_type": "code",
   "execution_count": 14,
   "metadata": {},
   "outputs": [],
   "source": [
    "#!pip install matplotlib==3.5.0"
   ]
  },
  {
   "cell_type": "code",
   "execution_count": 15,
   "metadata": {},
   "outputs": [],
   "source": [
    "import matplotlib.pyplot as plt\n",
    "import numpy as np\n",
    "import pandas as pd\n",
    "import math\n",
    "from matplotlib import rc\n",
    "#rc('font',**{'family':'sans-serif','sans-serif':['Helvetica']})\n",
    "rc('text', usetex=True)\n",
    "\n",
    "\n",
    "# folder path\n",
    "dir_path  = '/home/cecilia/repos/mogp_with_terms/moeir_comparison/'\n",
    "save_path = dir_path"
   ]
  },
  {
   "cell_type": "markdown",
   "metadata": {},
   "source": [
    "MOGP DFs"
   ]
  },
  {
   "cell_type": "code",
   "execution_count": 16,
   "metadata": {},
   "outputs": [
    {
     "data": {
      "text/html": [
       "<div>\n",
       "<style scoped>\n",
       "    .dataframe tbody tr th:only-of-type {\n",
       "        vertical-align: middle;\n",
       "    }\n",
       "\n",
       "    .dataframe tbody tr th {\n",
       "        vertical-align: top;\n",
       "    }\n",
       "\n",
       "    .dataframe thead th {\n",
       "        text-align: right;\n",
       "    }\n",
       "</style>\n",
       "<table border=\"1\" class=\"dataframe\">\n",
       "  <thead>\n",
       "    <tr style=\"text-align: right;\">\n",
       "      <th></th>\n",
       "      <th>Unnamed: 0</th>\n",
       "      <th>mean_gr</th>\n",
       "      <th>count_gr</th>\n",
       "      <th>std_gr</th>\n",
       "      <th>ci95_lo_gr</th>\n",
       "      <th>ci95_hi_gr</th>\n",
       "    </tr>\n",
       "  </thead>\n",
       "  <tbody>\n",
       "    <tr>\n",
       "      <th>0</th>\n",
       "      <td>0</td>\n",
       "      <td>0.823</td>\n",
       "      <td>25</td>\n",
       "      <td>0.085378</td>\n",
       "      <td>0.789532</td>\n",
       "      <td>0.856468</td>\n",
       "    </tr>\n",
       "  </tbody>\n",
       "</table>\n",
       "</div>"
      ],
      "text/plain": [
       "   Unnamed: 0  mean_gr  count_gr    std_gr  ci95_lo_gr  ci95_hi_gr\n",
       "0           0    0.823        25  0.085378    0.789532    0.856468"
      ]
     },
     "execution_count": 16,
     "metadata": {},
     "output_type": "execute_result"
    }
   ],
   "source": [
    "# LAST GEN\n",
    "path_mogp_gr = dir_path + 'co3_globalRecall_evaluation_stats_last_gen.csv'\n",
    "df_mogp_gr = pd.read_csv(path_mogp_gr)\n",
    "\n",
    "df_mogp_gr"
   ]
  },
  {
   "cell_type": "code",
   "execution_count": 17,
   "metadata": {},
   "outputs": [
    {
     "data": {
      "text/html": [
       "<div>\n",
       "<style scoped>\n",
       "    .dataframe tbody tr th:only-of-type {\n",
       "        vertical-align: middle;\n",
       "    }\n",
       "\n",
       "    .dataframe tbody tr th {\n",
       "        vertical-align: top;\n",
       "    }\n",
       "\n",
       "    .dataframe thead th {\n",
       "        text-align: right;\n",
       "    }\n",
       "</style>\n",
       "<table border=\"1\" class=\"dataframe\">\n",
       "  <thead>\n",
       "    <tr style=\"text-align: right;\">\n",
       "      <th></th>\n",
       "      <th>Unnamed: 0</th>\n",
       "      <th>mean_gr</th>\n",
       "      <th>count_gr</th>\n",
       "      <th>std_gr</th>\n",
       "      <th>ci95_lo_gr</th>\n",
       "      <th>ci95_hi_gr</th>\n",
       "    </tr>\n",
       "  </thead>\n",
       "  <tbody>\n",
       "    <tr>\n",
       "      <th>0</th>\n",
       "      <td>0</td>\n",
       "      <td>0.738476</td>\n",
       "      <td>25</td>\n",
       "      <td>0.113376</td>\n",
       "      <td>0.694032</td>\n",
       "      <td>0.782919</td>\n",
       "    </tr>\n",
       "  </tbody>\n",
       "</table>\n",
       "</div>"
      ],
      "text/plain": [
       "   Unnamed: 0   mean_gr  count_gr    std_gr  ci95_lo_gr  ci95_hi_gr\n",
       "0           0  0.738476        25  0.113376    0.694032    0.782919"
      ]
     },
     "execution_count": 17,
     "metadata": {},
     "output_type": "execute_result"
    }
   ],
   "source": [
    "# 1st gen\n",
    "path_mogp_gr_1st = dir_path + 'co3_globalRecall_evaluation_stats_gen_1.csv'\n",
    "df_mogp_gr_1st = pd.read_csv(path_mogp_gr_1st)\n",
    "\n",
    "df_mogp_gr_1st"
   ]
  },
  {
   "cell_type": "markdown",
   "metadata": {},
   "source": [
    "MOEIR DFs"
   ]
  },
  {
   "cell_type": "code",
   "execution_count": 18,
   "metadata": {},
   "outputs": [
    {
     "data": {
      "text/html": [
       "<div>\n",
       "<style scoped>\n",
       "    .dataframe tbody tr th:only-of-type {\n",
       "        vertical-align: middle;\n",
       "    }\n",
       "\n",
       "    .dataframe tbody tr th {\n",
       "        vertical-align: top;\n",
       "    }\n",
       "\n",
       "    .dataframe thead th {\n",
       "        text-align: right;\n",
       "    }\n",
       "</style>\n",
       "<table border=\"1\" class=\"dataframe\">\n",
       "  <thead>\n",
       "    <tr style=\"text-align: right;\">\n",
       "      <th></th>\n",
       "      <th>Unnamed: 0</th>\n",
       "      <th>mean_gr</th>\n",
       "      <th>count_gr</th>\n",
       "      <th>std_gr</th>\n",
       "      <th>ci95_lo_prec</th>\n",
       "      <th>ci95_hi_prec</th>\n",
       "    </tr>\n",
       "  </thead>\n",
       "  <tbody>\n",
       "    <tr>\n",
       "      <th>0</th>\n",
       "      <td>0</td>\n",
       "      <td>0.413475</td>\n",
       "      <td>25.0</td>\n",
       "      <td>0.13582</td>\n",
       "      <td>0.360233</td>\n",
       "      <td>0.466716</td>\n",
       "    </tr>\n",
       "  </tbody>\n",
       "</table>\n",
       "</div>"
      ],
      "text/plain": [
       "   Unnamed: 0   mean_gr  count_gr   std_gr  ci95_lo_prec  ci95_hi_prec\n",
       "0           0  0.413475      25.0  0.13582      0.360233      0.466716"
      ]
     },
     "execution_count": 18,
     "metadata": {},
     "output_type": "execute_result"
    }
   ],
   "source": [
    "# last gen\n",
    "path_moeir_gr = dir_path + 'moeir_globalRecall_evaluation_stats_last_gen.csv'\n",
    "df_moeir_gr = pd.read_csv(path_moeir_gr)\n",
    "\n",
    "df_moeir_gr"
   ]
  },
  {
   "cell_type": "code",
   "execution_count": 19,
   "metadata": {},
   "outputs": [
    {
     "data": {
      "text/html": [
       "<div>\n",
       "<style scoped>\n",
       "    .dataframe tbody tr th:only-of-type {\n",
       "        vertical-align: middle;\n",
       "    }\n",
       "\n",
       "    .dataframe tbody tr th {\n",
       "        vertical-align: top;\n",
       "    }\n",
       "\n",
       "    .dataframe thead th {\n",
       "        text-align: right;\n",
       "    }\n",
       "</style>\n",
       "<table border=\"1\" class=\"dataframe\">\n",
       "  <thead>\n",
       "    <tr style=\"text-align: right;\">\n",
       "      <th></th>\n",
       "      <th>Unnamed: 0</th>\n",
       "      <th>mean_gr</th>\n",
       "      <th>count_gr</th>\n",
       "      <th>std_gr</th>\n",
       "      <th>ci95_lo_prec</th>\n",
       "      <th>ci95_hi_prec</th>\n",
       "    </tr>\n",
       "  </thead>\n",
       "  <tbody>\n",
       "    <tr>\n",
       "      <th>0</th>\n",
       "      <td>0</td>\n",
       "      <td>0.501027</td>\n",
       "      <td>25.0</td>\n",
       "      <td>0.172936</td>\n",
       "      <td>0.433237</td>\n",
       "      <td>0.568818</td>\n",
       "    </tr>\n",
       "  </tbody>\n",
       "</table>\n",
       "</div>"
      ],
      "text/plain": [
       "   Unnamed: 0   mean_gr  count_gr    std_gr  ci95_lo_prec  ci95_hi_prec\n",
       "0           0  0.501027      25.0  0.172936      0.433237      0.568818"
      ]
     },
     "execution_count": 19,
     "metadata": {},
     "output_type": "execute_result"
    }
   ],
   "source": [
    "# last gen\n",
    "path_moeir_p10_1st = dir_path + 'moeir_globalRecall_evaluation_stats_gen_1.csv'\n",
    "df_moeir_gr_1st = pd.read_csv(path_moeir_p10_1st)\n",
    "\n",
    "df_moeir_gr_1st"
   ]
  },
  {
   "cell_type": "code",
   "execution_count": 27,
   "metadata": {},
   "outputs": [
    {
     "name": "stdout",
     "output_type": "stream",
     "text": [
      "[(0.04444330278263241, 0.06779078511071754), (0.033468031820055685, 0.05324156068029269)]\n"
     ]
    },
    {
     "data": {
      "image/png": "[encoded data removed]",
      "text/plain": [
       "<Figure size 500x300 with 1 Axes>"
      ]
     },
     "metadata": {},
     "output_type": "display_data"
    }
   ],
   "source": [
    "def IC_95(std, cant_items):\n",
    "    \n",
    "    return std * 1.96 / math.sqrt(cant_items)\n",
    "\n",
    "\n",
    "\n",
    "species = (\"MOGP\", \"MOEIR\" )\n",
    "\n",
    "methods_means = {\n",
    "    '$First  \\: Gen$': (round(df_mogp_gr_1st['mean_gr'][0], 3), round(df_moeir_gr_1st['mean_gr'][0], 3)),\n",
    "    '$Last \\: Gen$': (round(df_mogp_gr['mean_gr'][0], 3), round(df_moeir_gr['mean_gr'][0], 3)),\n",
    "}\n",
    "\n",
    "std = [(IC_95(df_mogp_gr_1st['std_gr'][0],df_mogp_gr_1st['count_gr'][0]),\n",
    "        IC_95(df_moeir_gr_1st['std_gr'][0], df_moeir_gr_1st['count_gr'][0])),        \n",
    "       (IC_95(df_mogp_gr['std_gr'][0], df_mogp_gr['count_gr'][0]),\n",
    "        IC_95(df_moeir_gr['std_gr'][0], df_moeir_gr['count_gr'][0]))]\n",
    "print(std)\n",
    "x = np.arange(len(species))  # the label locations\n",
    "width = 0.35  # the width of the bars\n",
    "multiplier = 0\n",
    "\n",
    "fig, ax = plt.subplots(1, 1, figsize=(5, 3))\n",
    "\n",
    "for attribute, measurement in methods_means.items():\n",
    "    \n",
    "    offset = width * multiplier\n",
    "    #axs.bar('mogp', t['mean_gr'], yerr=t['std_gr'], capsize=6)\n",
    "    rects = ax.bar(x + offset, measurement, width, yerr=std[multiplier], label=attribute, capsize=6)\n",
    "    ax.bar_label(rects, padding=3, fontsize=12)\n",
    "    multiplier += 1\n",
    "\n",
    "\n",
    "ax.set_ylabel(r'$$\\overline{Global \\: Recall}$$',fontsize=14)\n",
    "ax.set_xticks(x + width / 2)\n",
    "ax.set_xticklabels([\"$MOGP$\", \"$MOEIR$\"],fontsize=14)\n",
    "\n",
    "\n",
    "ax.legend(loc='upper right', ncol=2)\n",
    "ax.set_ylim(0, 1)\n",
    "plt.savefig(dir_path+\"mogp_vs_moeir_gr.svg\")\n",
    "plt.show()"
   ]
  },
  {
   "cell_type": "code",
   "execution_count": null,
   "metadata": {},
   "outputs": [],
   "source": []
  }
 ],
 "metadata": {
  "kernelspec": {
   "display_name": "Python 3.8.10 64-bit",
   "language": "python",
   "name": "python3"
  },
  "language_info": {
   "codemirror_mode": {
    "name": "ipython",
    "version": 3
   },
   "file_extension": ".py",
   "mimetype": "text/x-python",
   "name": "python",
   "nbconvert_exporter": "python",
   "pygments_lexer": "ipython3",
   "version": "3.8.10"
  },
  "orig_nbformat": 4,
  "vscode": {
   "interpreter": {
    "hash": "916dbcbb3f70747c44a77c7bcd40155683ae19c65e1c03b4aa3499c5328201f1"
   }
  }
 },
 "nbformat": 4,
 "nbformat_minor": 2
}
